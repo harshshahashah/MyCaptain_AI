{
 "cells": [
  {
   "cell_type": "code",
   "execution_count": 2,
   "id": "dcb2e2c5",
   "metadata": {},
   "outputs": [
    {
     "name": "stdout",
     "output_type": "stream",
     "text": [
      "Union of E and N is :  {1, 2, 3, 4, 5, 6, 7, 8, 9, 10}\n",
      "Intersection of E and N is :  {2, 4, 6, 8, 10}\n",
      "Difference of E and N is  {1, 3, 5, 7, 9}\n",
      "Symmetric difference of E and N is :  {1, 3, 5, 7, 9}\n"
     ]
    }
   ],
   "source": [
    "E = {1,2,3,4,5,6,7,8,9,10}\n",
    "N = {2,4,6,8,10}\n",
    "E_union_N = E.union(N)\n",
    "print(\"Union of E and N is : \",E_union_N)\n",
    "E_intersection_N = E.intersection(N)\n",
    "print(\"Intersection of E and N is : \",E_intersection_N)\n",
    "E_difference_N = E.difference(N)\n",
    "print(\"Difference of E and N is \",E_difference_N)\n",
    "E_symdiff_N = E.symmetric_difference(N)\n",
    "print(\"Symmetric difference of E and N is : \",E_symdiff_N)"
   ]
  },
  {
   "cell_type": "code",
   "execution_count": null,
   "id": "40f7cffc",
   "metadata": {},
   "outputs": [],
   "source": []
  }
 ],
 "metadata": {
  "kernelspec": {
   "display_name": "Python 3 (ipykernel)",
   "language": "python",
   "name": "python3"
  },
  "language_info": {
   "codemirror_mode": {
    "name": "ipython",
    "version": 3
   },
   "file_extension": ".py",
   "mimetype": "text/x-python",
   "name": "python",
   "nbconvert_exporter": "python",
   "pygments_lexer": "ipython3",
   "version": "3.11.5"
  }
 },
 "nbformat": 4,
 "nbformat_minor": 5
}
