{
 "cells": [
  {
   "cell_type": "code",
   "execution_count": 5,
   "id": "8934286f",
   "metadata": {
    "scrolled": false
   },
   "outputs": [
    {
     "name": "stdout",
     "output_type": "stream",
     "text": [
      "For list 1 : \n",
      "12\n",
      "5\n",
      "64\n",
      "For list 2 : \n",
      "12\n",
      "14\n",
      "3\n"
     ]
    }
   ],
   "source": [
    "list1 = [12,-7,5,64,-14]\n",
    "list2 = [12,14,-95,3]\n",
    "def pos(li):\n",
    "    for i in li:\n",
    "        if i > 0:\n",
    "            print(i)\n",
    "print(\"For list 1 : \")\n",
    "pos(list1)\n",
    "print(\"For list 2 : \")\n",
    "pos(list2)"
   ]
  },
  {
   "cell_type": "code",
   "execution_count": null,
   "id": "f8b14b09",
   "metadata": {},
   "outputs": [],
   "source": []
  }
 ],
 "metadata": {
  "kernelspec": {
   "display_name": "Python 3 (ipykernel)",
   "language": "python",
   "name": "python3"
  },
  "language_info": {
   "codemirror_mode": {
    "name": "ipython",
    "version": 3
   },
   "file_extension": ".py",
   "mimetype": "text/x-python",
   "name": "python",
   "nbconvert_exporter": "python",
   "pygments_lexer": "ipython3",
   "version": "3.11.5"
  }
 },
 "nbformat": 4,
 "nbformat_minor": 5
}
